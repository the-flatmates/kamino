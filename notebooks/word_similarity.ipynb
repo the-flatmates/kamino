{
 "cells": [
  {
   "cell_type": "code",
   "execution_count": null,
   "metadata": {},
   "outputs": [],
   "source": [
    "import random\n",
    "from pathlib import Path\n",
    "\n",
    "import numpy as np\n",
    "from kamino.game import Game, Space\n",
    "from kamino.similarity import (group_similarity, most_similar, pair_similarity,\n",
    "                               pairwise_similarity, wv_most_similar)\n"
   ]
  },
  {
   "cell_type": "code",
   "execution_count": null,
   "metadata": {},
   "outputs": [],
   "source": [
    "game = Game()\n",
    "print(game)\n",
    "print(game.key_card)"
   ]
  },
  {
   "cell_type": "code",
   "execution_count": null,
   "metadata": {},
   "outputs": [],
   "source": [
    "red_words = game.board[game.key_card == Space.RED]\n",
    "print(f\"Red words: {red_words}\")\n",
    "\n",
    "blue_words = game.board[game.key_card == Space.BLUE]\n",
    "print(f\"Blue words: {blue_words}\")\n",
    "\n",
    "neutral_words = game.board[game.key_card == Space.WHITE]\n",
    "print(f\"Neutral words: {neutral_words}\")\n",
    "\n",
    "black_word = str(game.board[game.key_card == Space.BLACK][0])\n",
    "print(f\"Black word: {black_word}\")"
   ]
  },
  {
   "cell_type": "code",
   "execution_count": null,
   "metadata": {},
   "outputs": [],
   "source": [
    "print(f\"Red word similarity: {group_similarity(red_words):.3f}\")\n",
    "print(f\"Blue word similarity: {group_similarity(blue_words):.3f}\")"
   ]
  },
  {
   "cell_type": "code",
   "execution_count": null,
   "metadata": {},
   "outputs": [],
   "source": [
    "print(\n",
    "    f\"Black word similarities to red: {np.mean(pairwise_similarity(black_word, red_words)):.3f}\"\n",
    ")\n",
    "print(\n",
    "    f\"Black word similarities to blue: {np.mean(pairwise_similarity(black_word, blue_words)):.3f}\"\n",
    ")"
   ]
  },
  {
   "cell_type": "code",
   "execution_count": null,
   "metadata": {},
   "outputs": [],
   "source": [
    "print(f\"Most similar to red: {most_similar(red_words, 5)}\")\n",
    "print(f\"Most similar to blue: {most_similar(blue_words, 5)}\")"
   ]
  }
 ],
 "metadata": {
  "kernelspec": {
   "display_name": "Python 3.10.0 ('venv310': venv)",
   "language": "python",
   "name": "python3"
  },
  "language_info": {
   "codemirror_mode": {
    "name": "ipython",
    "version": 3
   },
   "file_extension": ".py",
   "mimetype": "text/x-python",
   "name": "python",
   "nbconvert_exporter": "python",
   "pygments_lexer": "ipython3",
   "version": "3.10.0"
  },
  "orig_nbformat": 4,
  "vscode": {
   "interpreter": {
    "hash": "6e56debf764b172d245e06fe7ad9de496adb817fbdd99d6f632bea9d9976106b"
   }
  }
 },
 "nbformat": 4,
 "nbformat_minor": 2
}
