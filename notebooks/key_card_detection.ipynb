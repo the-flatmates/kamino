{
 "cells": [
  {
   "cell_type": "code",
   "execution_count": null,
   "metadata": {},
   "outputs": [],
   "source": [
    "from pathlib import Path\n",
    "\n",
    "import cv2\n",
    "import matplotlib.pyplot as plt\n",
    "import numpy as np\n",
    "from kamino import image_utils as iu\n",
    "\n",
    "%matplotlib ipympl"
   ]
  },
  {
   "cell_type": "code",
   "execution_count": null,
   "metadata": {},
   "outputs": [],
   "source": [
    "# https://maker.pro/raspberry-pi/tutorial/grid-detection-with-opencv-on-raspberry-pi\n",
    "plt.close(\"all\")\n",
    "\n",
    "impath = Path(\"..\") / \"data\" / \"key_card_4.jpg\"\n",
    "image = cv2.imread(str(impath))\n",
    "\n",
    "plt.figure()\n",
    "plt.imshow(cv2.cvtColor(image, cv2.COLOR_BGR2RGB))\n",
    "plt.title(\"Original Image\")\n",
    "\n",
    "gray = cv2.cvtColor(image, cv2.COLOR_BGR2GRAY)\n",
    "blur = cv2.GaussianBlur(gray, (5, 5), 0)\n",
    "thresh = cv2.adaptiveThreshold(blur, 255, 1, 1, 11, 2)\n",
    "\n",
    "contours = cv2.findContours(thresh, cv2.RETR_TREE, cv2.CHAIN_APPROX_SIMPLE)\n",
    "contours = contours[0] if len(contours) == 2 else contours[1]\n",
    "\n",
    "max_area = 0\n",
    "c = 0\n",
    "for contour in contours:\n",
    "    area = cv2.contourArea(contour)\n",
    "    if area < 25000:\n",
    "        if area > max_area:\n",
    "            max_area = area\n",
    "            best_cnt = contour\n",
    "            # image = cv2.drawContours(image, contours, c, (0, 255, 0), 3)\n",
    "    c += 1\n",
    "\n",
    "mask = np.zeros((gray.shape), np.uint8)\n",
    "cv2.drawContours(mask, [best_cnt], 0, 255, -1)\n",
    "cv2.drawContours(mask, [best_cnt], 0, 0, 2)\n",
    "plt.figure()\n",
    "plt.imshow(mask)\n",
    "plt.title(\"Mask\")\n",
    "\n",
    "out = np.zeros_like(gray)\n",
    "out[mask == 255] = gray[mask == 255]\n",
    "plt.figure()\n",
    "plt.imshow(cv2.cvtColor(out, cv2.COLOR_BGR2RGB))\n",
    "plt.title(\"New Image\")\n",
    "\n",
    "blur = cv2.GaussianBlur(out, (5, 5), 0)\n",
    "thresh = cv2.adaptiveThreshold(blur, 255, 1, 1, 11, 2)\n",
    "contours = cv2.findContours(thresh, cv2.RETR_TREE, cv2.CHAIN_APPROX_SIMPLE)\n",
    "contours = contours[0] if len(contours) == 2 else contours[1]\n",
    "\n",
    "c = 0\n",
    "for contour in contours:\n",
    "    area = cv2.contourArea(contour)\n",
    "    if area > 100 and area < 1000:\n",
    "        x, y, w, h = cv2.boundingRect(contour)\n",
    "        roi = image[y : y + h, x : x + w]\n",
    "        cv2.rectangle(image, (x, y), (x + w, y + h), (36, 255, 12), 2)\n",
    "    c += 1\n",
    "\n",
    "plt.figure()\n",
    "plt.imshow(cv2.cvtColor(image, cv2.COLOR_BGR2RGB))\n",
    "plt.title(\"Final Image\")\n",
    "\n",
    "plt.show()"
   ]
  }
 ],
 "metadata": {
  "kernelspec": {
   "display_name": "Python 3.10.0 ('venv310': venv)",
   "language": "python",
   "name": "python3"
  },
  "language_info": {
   "codemirror_mode": {
    "name": "ipython",
    "version": 3
   },
   "file_extension": ".py",
   "mimetype": "text/x-python",
   "name": "python",
   "nbconvert_exporter": "python",
   "pygments_lexer": "ipython3",
   "version": "3.10.0"
  },
  "orig_nbformat": 4,
  "vscode": {
   "interpreter": {
    "hash": "6e56debf764b172d245e06fe7ad9de496adb817fbdd99d6f632bea9d9976106b"
   }
  }
 },
 "nbformat": 4,
 "nbformat_minor": 2
}
