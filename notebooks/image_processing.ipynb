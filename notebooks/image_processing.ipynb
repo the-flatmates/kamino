{
 "cells": [
  {
   "cell_type": "code",
   "execution_count": null,
   "metadata": {},
   "outputs": [],
   "source": [
    "from pathlib import Path\n",
    "\n",
    "import cv2\n",
    "import matplotlib.pyplot as plt\n",
    "import numpy as np\n",
    "import pytesseract\n",
    "from kamino import image_utils as iu\n",
    "from pytesseract import Output\n",
    "from tqdm.notebook import tqdm\n",
    "\n",
    "%matplotlib ipympl"
   ]
  },
  {
   "cell_type": "code",
   "execution_count": null,
   "metadata": {},
   "outputs": [],
   "source": [
    "# Pytesseract configuration\n",
    "custom_config = r\"--psm 6 -c tessedit_char_whitelist=ABCDEFGHIJKLMNOPQRSTUVWXYZ\""
   ]
  },
  {
   "cell_type": "code",
   "execution_count": null,
   "metadata": {},
   "outputs": [],
   "source": [
    "# Load word list\n",
    "wl_path = Path(\"..\") / \"data\" / \"word_list.txt\"\n",
    "word_list = []\n",
    "\n",
    "with open(wl_path, \"r\") as f:\n",
    "    for line in f.readlines():\n",
    "        word_list.append(line.strip().lower())"
   ]
  },
  {
   "cell_type": "code",
   "execution_count": null,
   "metadata": {},
   "outputs": [],
   "source": [
    "# https://stackoverflow.com/questions/55169645/square-detection-in-image\n",
    "# Load image, grayscale, median blur, sharpen image\n",
    "impath = Path(\"..\") / \"data\" / \"board_3.jpg\"\n",
    "image = cv2.imread(str(impath))\n",
    "gray = cv2.cvtColor(image, cv2.COLOR_BGR2GRAY)\n",
    "blur = iu.blur(gray)\n",
    "sharpen = iu.sharpen(blur)\n",
    "\n",
    "# Threshold and morph close\n",
    "thresh = cv2.threshold(sharpen, 160, 255, cv2.THRESH_BINARY)[1]\n",
    "kernel = cv2.getStructuringElement(cv2.MORPH_RECT, (3, 3))\n",
    "close = cv2.morphologyEx(thresh, cv2.MORPH_CLOSE, kernel, iterations=2)\n",
    "\n",
    "# Find contours and filter using threshold area\n",
    "contours = cv2.findContours(close, cv2.RETR_EXTERNAL, cv2.CHAIN_APPROX_SIMPLE)\n",
    "contours = contours[0] if len(contours) == 2 else contours[1]\n",
    "\n",
    "# Define min and max area\n",
    "min_area = 100\n",
    "max_area = 40000\n",
    "\n",
    "# Initialize image number\n",
    "image_number = 0\n",
    "\n",
    "\n",
    "for contour in contours:\n",
    "    area = cv2.contourArea(contour)\n",
    "    if area > min_area and area < max_area:\n",
    "        x, y, w, h = cv2.boundingRect(contour)\n",
    "        roi = gray[y : y + h, x : x + w]\n",
    "        roi = cv2.threshold(roi, 115, 255, cv2.THRESH_BINARY)[1]\n",
    "        ocr_text = pytesseract.image_to_string(roi, config=custom_config)\n",
    "        ocr_words = ocr_text.split(\"\\n\")\n",
    "        word = \"\"\n",
    "        for ocr_word in ocr_words:\n",
    "            word = ocr_word.strip().lower()\n",
    "            if word in word_list:\n",
    "                break\n",
    "\n",
    "        if not word:\n",
    "            print(f\"{image_number}: !! ERROR !! : {ocr_text}\")\n",
    "        else:\n",
    "            print(f\"{image_number}: {word}\")\n",
    "\n",
    "        # cv2.imwrite(\"ROI_{}.png\".format(image_number), roi)\n",
    "        # cv2.rectangle(image, (x, y), (x + w, y + h), (36, 255, 12), 2)\n",
    "\n",
    "        image_number += 1"
   ]
  }
 ],
 "metadata": {
  "kernelspec": {
   "display_name": "Python 3.10.0 ('venv310': venv)",
   "language": "python",
   "name": "python3"
  },
  "language_info": {
   "codemirror_mode": {
    "name": "ipython",
    "version": 3
   },
   "file_extension": ".py",
   "mimetype": "text/x-python",
   "name": "python",
   "nbconvert_exporter": "python",
   "pygments_lexer": "ipython3",
   "version": "3.10.0"
  },
  "orig_nbformat": 4,
  "vscode": {
   "interpreter": {
    "hash": "6e56debf764b172d245e06fe7ad9de496adb817fbdd99d6f632bea9d9976106b"
   }
  }
 },
 "nbformat": 4,
 "nbformat_minor": 2
}
